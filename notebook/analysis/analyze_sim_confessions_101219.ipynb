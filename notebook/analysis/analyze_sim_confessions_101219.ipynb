{
 "cells": [
  {
   "cell_type": "markdown",
   "metadata": {},
   "source": [
    "# Background"
   ]
  },
  {
   "cell_type": "markdown",
   "metadata": {},
   "source": [
    "Objectives:\n",
    "    "
   ]
  },
  {
   "cell_type": "markdown",
   "metadata": {},
   "source": [
    "##### - to analyse stuff"
   ]
  },
  {
   "cell_type": "markdown",
   "metadata": {},
   "source": [
    "### import libaries and data"
   ]
  },
  {
   "cell_type": "code",
   "execution_count": 4,
   "metadata": {},
   "outputs": [],
   "source": [
    "import pandas as pd"
   ]
  },
  {
   "cell_type": "code",
   "execution_count": 5,
   "metadata": {},
   "outputs": [],
   "source": [
    "df = pd.read_csv('../../data/raw/df_sim_confessions_250816_091219.csv', index_col = [0])"
   ]
  },
  {
   "cell_type": "code",
   "execution_count": 6,
   "metadata": {},
   "outputs": [
    {
     "data": {
      "text/plain": [
       "(2195, 10)"
      ]
     },
     "execution_count": 6,
     "metadata": {},
     "output_type": "execute_result"
    }
   ],
   "source": [
    "df.shape"
   ]
  },
  {
   "cell_type": "code",
   "execution_count": 7,
   "metadata": {},
   "outputs": [
    {
     "data": {
      "text/html": [
       "<div>\n",
       "<style scoped>\n",
       "    .dataframe tbody tr th:only-of-type {\n",
       "        vertical-align: middle;\n",
       "    }\n",
       "\n",
       "    .dataframe tbody tr th {\n",
       "        vertical-align: top;\n",
       "    }\n",
       "\n",
       "    .dataframe thead th {\n",
       "        text-align: right;\n",
       "    }\n",
       "</style>\n",
       "<table border=\"1\" class=\"dataframe\">\n",
       "  <thead>\n",
       "    <tr style=\"text-align: right;\">\n",
       "      <th></th>\n",
       "      <th>post_id</th>\n",
       "      <th>text</th>\n",
       "      <th>shared_text</th>\n",
       "      <th>time</th>\n",
       "      <th>image</th>\n",
       "      <th>likes</th>\n",
       "      <th>comments</th>\n",
       "      <th>shares</th>\n",
       "      <th>post_url</th>\n",
       "      <th>link</th>\n",
       "    </tr>\n",
       "  </thead>\n",
       "  <tbody>\n",
       "    <tr>\n",
       "      <th>0</th>\n",
       "      <td>2943545019041164</td>\n",
       "      <td>#SIMConfession173963\\n\"Tutorial how to disting...</td>\n",
       "      <td>NaN</td>\n",
       "      <td>2019-12-09 07:38:02</td>\n",
       "      <td>NaN</td>\n",
       "      <td>8</td>\n",
       "      <td>0</td>\n",
       "      <td>0</td>\n",
       "      <td>https://m.facebook.com/story.php?story_fbid=29...</td>\n",
       "      <td>NaN</td>\n",
       "    </tr>\n",
       "    <tr>\n",
       "      <th>1</th>\n",
       "      <td>2943544282374571</td>\n",
       "      <td>#SIMConfession173962\\n\"Roses are red\\nViolet a...</td>\n",
       "      <td>NaN</td>\n",
       "      <td>2019-12-09 07:37:23</td>\n",
       "      <td>NaN</td>\n",
       "      <td>0</td>\n",
       "      <td>0</td>\n",
       "      <td>0</td>\n",
       "      <td>https://m.facebook.com/story.php?story_fbid=29...</td>\n",
       "      <td>NaN</td>\n",
       "    </tr>\n",
       "    <tr>\n",
       "      <th>2</th>\n",
       "      <td>2943543449041321</td>\n",
       "      <td>#SIMConfession173961\\n\"To all the girls out th...</td>\n",
       "      <td>NaN</td>\n",
       "      <td>2019-12-09 07:36:45</td>\n",
       "      <td>NaN</td>\n",
       "      <td>13</td>\n",
       "      <td>6</td>\n",
       "      <td>0</td>\n",
       "      <td>https://m.facebook.com/story.php?story_fbid=29...</td>\n",
       "      <td>NaN</td>\n",
       "    </tr>\n",
       "    <tr>\n",
       "      <th>3</th>\n",
       "      <td>2943542289041437</td>\n",
       "      <td>#SIMConfession173960\\nHoping for the day when ...</td>\n",
       "      <td>NaN</td>\n",
       "      <td>2019-12-09 07:35:51</td>\n",
       "      <td>NaN</td>\n",
       "      <td>0</td>\n",
       "      <td>0</td>\n",
       "      <td>0</td>\n",
       "      <td>https://m.facebook.com/story.php?story_fbid=29...</td>\n",
       "      <td>NaN</td>\n",
       "    </tr>\n",
       "    <tr>\n",
       "      <th>4</th>\n",
       "      <td>2943539142375085</td>\n",
       "      <td>#SIMConfession173959\\n\"https://mustsharenews.c...</td>\n",
       "      <td>MUSTSHARENEWS.COM\\nS'pore Company Looking For ...</td>\n",
       "      <td>2019-12-09 07:33:43</td>\n",
       "      <td>https://external.fsin5-1.fna.fbcdn.net/safe_im...</td>\n",
       "      <td>3</td>\n",
       "      <td>0</td>\n",
       "      <td>0</td>\n",
       "      <td>https://m.facebook.com/story.php?story_fbid=29...</td>\n",
       "      <td>https://mustsharenews.com/cleaner-degree/</td>\n",
       "    </tr>\n",
       "  </tbody>\n",
       "</table>\n",
       "</div>"
      ],
      "text/plain": [
       "            post_id                                               text  \\\n",
       "0  2943545019041164  #SIMConfession173963\\n\"Tutorial how to disting...   \n",
       "1  2943544282374571  #SIMConfession173962\\n\"Roses are red\\nViolet a...   \n",
       "2  2943543449041321  #SIMConfession173961\\n\"To all the girls out th...   \n",
       "3  2943542289041437  #SIMConfession173960\\nHoping for the day when ...   \n",
       "4  2943539142375085  #SIMConfession173959\\n\"https://mustsharenews.c...   \n",
       "\n",
       "                                         shared_text                 time  \\\n",
       "0                                                NaN  2019-12-09 07:38:02   \n",
       "1                                                NaN  2019-12-09 07:37:23   \n",
       "2                                                NaN  2019-12-09 07:36:45   \n",
       "3                                                NaN  2019-12-09 07:35:51   \n",
       "4  MUSTSHARENEWS.COM\\nS'pore Company Looking For ...  2019-12-09 07:33:43   \n",
       "\n",
       "                                               image  likes  comments  shares  \\\n",
       "0                                                NaN      8         0       0   \n",
       "1                                                NaN      0         0       0   \n",
       "2                                                NaN     13         6       0   \n",
       "3                                                NaN      0         0       0   \n",
       "4  https://external.fsin5-1.fna.fbcdn.net/safe_im...      3         0       0   \n",
       "\n",
       "                                            post_url  \\\n",
       "0  https://m.facebook.com/story.php?story_fbid=29...   \n",
       "1  https://m.facebook.com/story.php?story_fbid=29...   \n",
       "2  https://m.facebook.com/story.php?story_fbid=29...   \n",
       "3  https://m.facebook.com/story.php?story_fbid=29...   \n",
       "4  https://m.facebook.com/story.php?story_fbid=29...   \n",
       "\n",
       "                                        link  \n",
       "0                                        NaN  \n",
       "1                                        NaN  \n",
       "2                                        NaN  \n",
       "3                                        NaN  \n",
       "4  https://mustsharenews.com/cleaner-degree/  "
      ]
     },
     "execution_count": 7,
     "metadata": {},
     "output_type": "execute_result"
    }
   ],
   "source": [
    "df.head()"
   ]
  },
  {
   "cell_type": "code",
   "execution_count": null,
   "metadata": {},
   "outputs": [],
   "source": []
  }
 ],
 "metadata": {
  "kernelspec": {
   "display_name": "Python 3",
   "language": "python",
   "name": "python3"
  },
  "language_info": {
   "codemirror_mode": {
    "name": "ipython",
    "version": 3
   },
   "file_extension": ".py",
   "mimetype": "text/x-python",
   "name": "python",
   "nbconvert_exporter": "python",
   "pygments_lexer": "ipython3",
   "version": "3.7.3"
  }
 },
 "nbformat": 4,
 "nbformat_minor": 2
}
